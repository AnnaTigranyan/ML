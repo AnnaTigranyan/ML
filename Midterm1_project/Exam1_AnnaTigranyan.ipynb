{
 "cells": [
  {
   "cell_type": "markdown",
   "id": "0499f17f",
   "metadata": {},
   "source": [
    "# Exam_1  Assignment\n",
    "\n",
    "## Anna Tigranyan"
   ]
  },
  {
   "cell_type": "markdown",
   "id": "28474571",
   "metadata": {},
   "source": [
    "**The overview**<br>\n",
    "\n",
    "An online sales company wants to predict if the user will come back to its website after 10 days based on the actions done within the first 3 days after registration. The model will be used in several marketing campaigns.\n",
    "<br>\n",
    "The dataset - **train.csv**<br>\n",
    "The test dataset - will not be available till the end of the exam - test.csv\n",
    "<br>\n",
    "Description:<br>\n",
    "Each row represents a user who registered and did some actions.\n",
    "<br>\n",
    "Target: <br>\n",
    "**came_back:** 0 - user didn’t come back after 10 days, 1 - came back.\n",
    "<br>\n",
    "Features:<br>\n",
    "**n_visits** - number of visits of the website during the first 3 days.<br>\n",
    "**n_actions** - number of actions/button clicks in the website during the first 3 days.<br>\n",
    "**unique_actions** - number of unique actions in the website during the first 3 days.<br>\n",
    "**products_tried** - number of products viewed during the first 3 days.<br>\n",
    "**products_added** - number of products added to cart during the first 3 days.<br>\n",
    "**unique_products_category_tried** - number of unique products’ categories viewed during the first 3 days.<br>\n",
    "**Unique_products**_category_added - number of unique products’ categories added to cart during the first 3 days.<br>\n",
    "**saved_to_cart** - if the user actually saved the purchases for later purchase during the first 3 days.<br>\n",
    "**comments_writen** - how many unique comments the user did during the first 3 days.<br>\n",
    "**counts_of_buys** - how many times the user actually paid during the first 3 days.<br>\n",
    "<br>\n",
    "Allowed Models:<br>\n",
    "●\t**KNN**<br>\n",
    "●\t**Decision Trees**<br>\n",
    "●\t**Regressions**<br>\n",
    "●\t**Bayesyan inference**<br>\n",
    "<br>\n",
    "Grading:<br>\n",
    "Grading is based on the performance of the model on the test dataset. Keep in mind there could be a 1- 4% accuracy fluctuations. The student provides the whole notebook with the final model, feature engineering and scaling, otherwise the results might differ from the original one.<br>\n",
    "The student receives the maximum grade if the accuracy metrics score is higher than 75%. If the score is between 60% and 75% then the student gets half of the grade, otherwise zero.\n"
   ]
  },
  {
   "cell_type": "code",
   "execution_count": 1,
   "id": "15a036b8",
   "metadata": {},
   "outputs": [],
   "source": [
    "import numpy as np\n",
    "import pandas as pd\n",
    "import matplotlib.pyplot as plt\n",
    "import seaborn as sns\n",
    "\n",
    "import warnings\n",
    "warnings.filterwarnings('ignore')"
   ]
  },
  {
   "cell_type": "code",
   "execution_count": 2,
   "id": "de2c3255",
   "metadata": {},
   "outputs": [],
   "source": [
    "df = pd.read_csv(r'train.csv')"
   ]
  },
  {
   "cell_type": "code",
   "execution_count": 3,
   "id": "c13dc9fa",
   "metadata": {},
   "outputs": [
    {
     "data": {
      "text/html": [
       "<div>\n",
       "<style scoped>\n",
       "    .dataframe tbody tr th:only-of-type {\n",
       "        vertical-align: middle;\n",
       "    }\n",
       "\n",
       "    .dataframe tbody tr th {\n",
       "        vertical-align: top;\n",
       "    }\n",
       "\n",
       "    .dataframe thead th {\n",
       "        text-align: right;\n",
       "    }\n",
       "</style>\n",
       "<table border=\"1\" class=\"dataframe\">\n",
       "  <thead>\n",
       "    <tr style=\"text-align: right;\">\n",
       "      <th></th>\n",
       "      <th>Unnamed: 0</th>\n",
       "      <th>n_visits</th>\n",
       "      <th>n_actions</th>\n",
       "      <th>unique_actions</th>\n",
       "      <th>products_tried</th>\n",
       "      <th>products_added</th>\n",
       "      <th>unique_products_category_tried</th>\n",
       "      <th>unique_products_category_added</th>\n",
       "      <th>saved_to_cart</th>\n",
       "      <th>comments_writen</th>\n",
       "      <th>counts_of_buys</th>\n",
       "      <th>came_back</th>\n",
       "    </tr>\n",
       "  </thead>\n",
       "  <tbody>\n",
       "    <tr>\n",
       "      <th>0</th>\n",
       "      <td>255863</td>\n",
       "      <td>1</td>\n",
       "      <td>63</td>\n",
       "      <td>45</td>\n",
       "      <td>0</td>\n",
       "      <td>0</td>\n",
       "      <td>0</td>\n",
       "      <td>2</td>\n",
       "      <td>1</td>\n",
       "      <td>1</td>\n",
       "      <td>2</td>\n",
       "      <td>0</td>\n",
       "    </tr>\n",
       "    <tr>\n",
       "      <th>1</th>\n",
       "      <td>583906</td>\n",
       "      <td>4</td>\n",
       "      <td>350</td>\n",
       "      <td>72</td>\n",
       "      <td>0</td>\n",
       "      <td>0</td>\n",
       "      <td>0</td>\n",
       "      <td>2</td>\n",
       "      <td>1</td>\n",
       "      <td>4</td>\n",
       "      <td>6</td>\n",
       "      <td>0</td>\n",
       "    </tr>\n",
       "    <tr>\n",
       "      <th>2</th>\n",
       "      <td>280626</td>\n",
       "      <td>12</td>\n",
       "      <td>1019</td>\n",
       "      <td>123</td>\n",
       "      <td>5</td>\n",
       "      <td>2</td>\n",
       "      <td>6</td>\n",
       "      <td>6</td>\n",
       "      <td>1</td>\n",
       "      <td>9</td>\n",
       "      <td>14</td>\n",
       "      <td>0</td>\n",
       "    </tr>\n",
       "    <tr>\n",
       "      <th>3</th>\n",
       "      <td>357109</td>\n",
       "      <td>1</td>\n",
       "      <td>503</td>\n",
       "      <td>124</td>\n",
       "      <td>0</td>\n",
       "      <td>0</td>\n",
       "      <td>30</td>\n",
       "      <td>16</td>\n",
       "      <td>0</td>\n",
       "      <td>0</td>\n",
       "      <td>0</td>\n",
       "      <td>0</td>\n",
       "    </tr>\n",
       "    <tr>\n",
       "      <th>4</th>\n",
       "      <td>264311</td>\n",
       "      <td>15</td>\n",
       "      <td>1869</td>\n",
       "      <td>139</td>\n",
       "      <td>0</td>\n",
       "      <td>0</td>\n",
       "      <td>34</td>\n",
       "      <td>13</td>\n",
       "      <td>1</td>\n",
       "      <td>12</td>\n",
       "      <td>25</td>\n",
       "      <td>1</td>\n",
       "    </tr>\n",
       "  </tbody>\n",
       "</table>\n",
       "</div>"
      ],
      "text/plain": [
       "   Unnamed: 0  n_visits  n_actions  unique_actions  products_tried  \\\n",
       "0      255863         1         63              45               0   \n",
       "1      583906         4        350              72               0   \n",
       "2      280626        12       1019             123               5   \n",
       "3      357109         1        503             124               0   \n",
       "4      264311        15       1869             139               0   \n",
       "\n",
       "   products_added  unique_products_category_tried  \\\n",
       "0               0                               0   \n",
       "1               0                               0   \n",
       "2               2                               6   \n",
       "3               0                              30   \n",
       "4               0                              34   \n",
       "\n",
       "   unique_products_category_added  saved_to_cart  comments_writen  \\\n",
       "0                               2              1                1   \n",
       "1                               2              1                4   \n",
       "2                               6              1                9   \n",
       "3                              16              0                0   \n",
       "4                              13              1               12   \n",
       "\n",
       "   counts_of_buys  came_back  \n",
       "0               2          0  \n",
       "1               6          0  \n",
       "2              14          0  \n",
       "3               0          0  \n",
       "4              25          1  "
      ]
     },
     "execution_count": 3,
     "metadata": {},
     "output_type": "execute_result"
    }
   ],
   "source": [
    "df.head()"
   ]
  },
  {
   "cell_type": "markdown",
   "id": "6f5f17c4",
   "metadata": {},
   "source": [
    "**'Unnamed: 0'** is unusefull column: let's drop it."
   ]
  },
  {
   "cell_type": "code",
   "execution_count": 4,
   "id": "c1663ec5",
   "metadata": {},
   "outputs": [],
   "source": [
    "df = df.drop(['Unnamed: 0'],axis=1)"
   ]
  },
  {
   "cell_type": "markdown",
   "id": "ed0b0e4d",
   "metadata": {},
   "source": [
    "### Checking **duplicats**"
   ]
  },
  {
   "cell_type": "code",
   "execution_count": 5,
   "id": "73f3e486",
   "metadata": {},
   "outputs": [
    {
     "data": {
      "text/plain": [
       "(658052, 11)"
      ]
     },
     "execution_count": 5,
     "metadata": {},
     "output_type": "execute_result"
    }
   ],
   "source": [
    "df.shape"
   ]
  },
  {
   "cell_type": "code",
   "execution_count": 6,
   "id": "717e7e8f",
   "metadata": {},
   "outputs": [
    {
     "name": "stdout",
     "output_type": "stream",
     "text": [
      "Number of duplicates: 114169\n"
     ]
    }
   ],
   "source": [
    "\n",
    "print(f'Number of duplicates: {df.duplicated().sum()}')"
   ]
  },
  {
   "cell_type": "code",
   "execution_count": 7,
   "id": "9ae80694",
   "metadata": {},
   "outputs": [],
   "source": [
    "df = df.drop_duplicates()"
   ]
  },
  {
   "cell_type": "code",
   "execution_count": 8,
   "id": "54fadbde",
   "metadata": {},
   "outputs": [
    {
     "data": {
      "text/plain": [
       "(543883, 11)"
      ]
     },
     "execution_count": 8,
     "metadata": {},
     "output_type": "execute_result"
    }
   ],
   "source": [
    "df.shape"
   ]
  },
  {
   "cell_type": "markdown",
   "id": "6e0e3de6",
   "metadata": {},
   "source": [
    "We don't have duplicated rows in our dataset anymore"
   ]
  },
  {
   "cell_type": "markdown",
   "id": "d35aceda",
   "metadata": {},
   "source": [
    "### Checking **missing values**"
   ]
  },
  {
   "cell_type": "code",
   "execution_count": 9,
   "id": "79110760",
   "metadata": {},
   "outputs": [
    {
     "data": {
      "text/plain": [
       "n_visits                          0\n",
       "n_actions                         0\n",
       "unique_actions                    0\n",
       "products_tried                    0\n",
       "products_added                    0\n",
       "unique_products_category_tried    0\n",
       "unique_products_category_added    0\n",
       "saved_to_cart                     0\n",
       "comments_writen                   0\n",
       "counts_of_buys                    0\n",
       "came_back                         0\n",
       "dtype: int64"
      ]
     },
     "execution_count": 9,
     "metadata": {},
     "output_type": "execute_result"
    }
   ],
   "source": [
    "pd.isna(df).sum()"
   ]
  },
  {
   "cell_type": "markdown",
   "id": "16c57d9f",
   "metadata": {},
   "source": [
    "We have **no missing values** in our dataset."
   ]
  },
  {
   "cell_type": "code",
   "execution_count": 10,
   "id": "e2c031b9",
   "metadata": {},
   "outputs": [
    {
     "name": "stdout",
     "output_type": "stream",
     "text": [
      "<class 'pandas.core.frame.DataFrame'>\n",
      "Int64Index: 543883 entries, 0 to 658051\n",
      "Data columns (total 11 columns):\n",
      " #   Column                          Non-Null Count   Dtype\n",
      "---  ------                          --------------   -----\n",
      " 0   n_visits                        543883 non-null  int64\n",
      " 1   n_actions                       543883 non-null  int64\n",
      " 2   unique_actions                  543883 non-null  int64\n",
      " 3   products_tried                  543883 non-null  int64\n",
      " 4   products_added                  543883 non-null  int64\n",
      " 5   unique_products_category_tried  543883 non-null  int64\n",
      " 6   unique_products_category_added  543883 non-null  int64\n",
      " 7   saved_to_cart                   543883 non-null  int64\n",
      " 8   comments_writen                 543883 non-null  int64\n",
      " 9   counts_of_buys                  543883 non-null  int64\n",
      " 10  came_back                       543883 non-null  int64\n",
      "dtypes: int64(11)\n",
      "memory usage: 49.8 MB\n"
     ]
    }
   ],
   "source": [
    "df.info()"
   ]
  },
  {
   "cell_type": "markdown",
   "id": "df81e97c",
   "metadata": {},
   "source": [
    "Our **saved_to_cart** and **came_back** variables are categorical.Let's change dtypes."
   ]
  },
  {
   "cell_type": "code",
   "execution_count": 11,
   "id": "6e992ca0",
   "metadata": {},
   "outputs": [],
   "source": [
    "df = df.astype({\"saved_to_cart\":'category',\"came_back\":'category'})"
   ]
  },
  {
   "cell_type": "markdown",
   "id": "6ab1e25d",
   "metadata": {},
   "source": [
    "## Train test split"
   ]
  },
  {
   "cell_type": "code",
   "execution_count": 12,
   "id": "97ac670e",
   "metadata": {},
   "outputs": [],
   "source": [
    "train = df.sample(frac=0.9,random_state=42) # train data\n",
    "test = df.drop(train.index) # test data"
   ]
  },
  {
   "cell_type": "code",
   "execution_count": 13,
   "id": "38534454",
   "metadata": {},
   "outputs": [],
   "source": [
    "X_test = test.drop(['came_back'], axis=1)\n",
    "y_test = test['came_back']"
   ]
  },
  {
   "cell_type": "code",
   "execution_count": 14,
   "id": "f274d735",
   "metadata": {},
   "outputs": [
    {
     "data": {
      "text/plain": [
       "<AxesSubplot:xlabel='came_back', ylabel='count'>"
      ]
     },
     "execution_count": 14,
     "metadata": {},
     "output_type": "execute_result"
    },
    {
     "data": {
      "image/png": "[encoded data removed]",
      "text/plain": [
       "<Figure size 432x288 with 1 Axes>"
      ]
     },
     "metadata": {
      "needs_background": "light"
     },
     "output_type": "display_data"
    }
   ],
   "source": [
    "sns.countplot(train['came_back'])"
   ]
  },
  {
   "cell_type": "code",
   "execution_count": 15,
   "id": "4b4fb305",
   "metadata": {},
   "outputs": [
    {
     "name": "stdout",
     "output_type": "stream",
     "text": [
      "Training target statistics: Counter({0: 301609, 1: 187886})\n"
     ]
    }
   ],
   "source": [
    "from collections import Counter\n",
    "print(f\"Training target statistics: {Counter(train['came_back'])}\")"
   ]
  },
  {
   "cell_type": "markdown",
   "id": "1a4d5fe9",
   "metadata": {},
   "source": [
    "From above countplot we can see that our test data is **unbalanced**."
   ]
  },
  {
   "cell_type": "markdown",
   "id": "c9579b7b",
   "metadata": {},
   "source": [
    "## Training Data balancing"
   ]
  },
  {
   "cell_type": "code",
   "execution_count": 16,
   "id": "da10a08a",
   "metadata": {},
   "outputs": [],
   "source": [
    "class_count_0,class_count_1 = train[\"came_back\"].value_counts()\n",
    "\n",
    "class_0 = train[train[\"came_back\"] == 0]\n",
    "class_1 = train[train[\"came_back\"] == 1]\n",
    "\n",
    "class_0_under = class_0.sample(class_count_1)\n",
    "train = pd.concat([class_0_under,class_1],axis=0)"
   ]
  },
  {
   "cell_type": "code",
   "execution_count": 17,
   "id": "75df8deb",
   "metadata": {},
   "outputs": [
    {
     "data": {
      "text/plain": [
       "<AxesSubplot:xlabel='came_back', ylabel='count'>"
      ]
     },
     "execution_count": 17,
     "metadata": {},
     "output_type": "execute_result"
    },
    {
     "data": {
      "image/png": "[encoded data removed]",
      "text/plain": [
       "<Figure size 432x288 with 1 Axes>"
      ]
     },
     "metadata": {
      "needs_background": "light"
     },
     "output_type": "display_data"
    }
   ],
   "source": [
    "sns.countplot(train['came_back'])"
   ]
  },
  {
   "cell_type": "markdown",
   "id": "b2c5a1ac",
   "metadata": {},
   "source": [
    "Now our train data **is balanced** "
   ]
  },
  {
   "cell_type": "code",
   "execution_count": 18,
   "id": "b0c299fe",
   "metadata": {},
   "outputs": [],
   "source": [
    "X_train = train.drop(['came_back'], axis=1) \n",
    "y_train = train['came_back']"
   ]
  },
  {
   "cell_type": "markdown",
   "id": "56fd585f",
   "metadata": {},
   "source": [
    "## Scaling "
   ]
  },
  {
   "cell_type": "code",
   "execution_count": 19,
   "id": "b4c1cef7",
   "metadata": {},
   "outputs": [],
   "source": [
    "from sklearn.preprocessing import StandardScaler\n",
    "\n",
    "scaler_sd = StandardScaler()\n",
    "\n",
    "# Get scaling parameters with the X_train sample exclusively, using the Scaler.fit() function\n",
    "scaler_sd.fit(X_train)\n",
    "\n",
    "# Scale data using Scaler.transform()\n",
    "X_train_scaled_sd = scaler_sd.transform(X_train)\n",
    "X_test_scaled_sd = scaler_sd.transform(X_test)"
   ]
  },
  {
   "cell_type": "code",
   "execution_count": 20,
   "id": "d0c9ae3a",
   "metadata": {},
   "outputs": [],
   "source": [
    "# from sklearn.decomposition import PCA\n",
    "# pca = PCA()\n",
    "\n",
    "# pca.fit(X_train_scaled_sd)\n",
    "\n",
    "# X_train_scaled_sd = pca.transform(X_train_scaled_sd)\n",
    "# X_test_scaled_sd = pca.transform(X_test_scaled_sd)"
   ]
  },
  {
   "cell_type": "markdown",
   "id": "50da6a1c",
   "metadata": {},
   "source": [
    "GridSearchCV for Decision Tree's **'max_depth'**"
   ]
  },
  {
   "cell_type": "code",
   "execution_count": 21,
   "id": "2c8ac61d",
   "metadata": {},
   "outputs": [],
   "source": [
    "from sklearn.tree import DecisionTreeClassifier\n",
    "from sklearn.model_selection import GridSearchCV"
   ]
  },
  {
   "cell_type": "code",
   "execution_count": 22,
   "id": "d3e558aa",
   "metadata": {},
   "outputs": [
    {
     "data": {
      "text/plain": [
       "GridSearchCV(cv=5, estimator=DecisionTreeClassifier(),\n",
       "             param_grid={'max_depth': [4, 5, 6, 7, 8, 9, 10, 11, 12, 13, 14,\n",
       "                                       15]},\n",
       "             scoring='accuracy')"
      ]
     },
     "execution_count": 22,
     "metadata": {},
     "output_type": "execute_result"
    }
   ],
   "source": [
    "max_depth = [4,5,6,7,8,9,10,11,12,13,14,15]\n",
    "param_grid = {'max_depth': max_depth}\n",
    "\n",
    "dt = DecisionTreeClassifier() \n",
    "\n",
    "full_cv_classifier = GridSearchCV(dt,param_grid,cv=5,scoring='accuracy')\n",
    "\n",
    "full_cv_classifier.fit(X_train_scaled_sd,y_train)"
   ]
  },
  {
   "cell_type": "code",
   "execution_count": 23,
   "id": "0b28e340",
   "metadata": {},
   "outputs": [
    {
     "data": {
      "text/plain": [
       "{'ccp_alpha': 0.0,\n",
       " 'class_weight': None,\n",
       " 'criterion': 'gini',\n",
       " 'max_depth': 7,\n",
       " 'max_features': None,\n",
       " 'max_leaf_nodes': None,\n",
       " 'min_impurity_decrease': 0.0,\n",
       " 'min_impurity_split': None,\n",
       " 'min_samples_leaf': 1,\n",
       " 'min_samples_split': 2,\n",
       " 'min_weight_fraction_leaf': 0.0,\n",
       " 'random_state': None,\n",
       " 'splitter': 'best'}"
      ]
     },
     "execution_count": 23,
     "metadata": {},
     "output_type": "execute_result"
    }
   ],
   "source": [
    "full_cv_classifier.best_estimator_.get_params()"
   ]
  },
  {
   "cell_type": "markdown",
   "id": "7f99d534",
   "metadata": {},
   "source": [
    "Optimal  'max_depth':  **7**"
   ]
  },
  {
   "cell_type": "code",
   "execution_count": 24,
   "id": "fe574b79",
   "metadata": {},
   "outputs": [
    {
     "data": {
      "text/plain": [
       "DecisionTreeClassifier(max_depth=7)"
      ]
     },
     "execution_count": 24,
     "metadata": {},
     "output_type": "execute_result"
    }
   ],
   "source": [
    "dt = DecisionTreeClassifier(max_depth=7)\n",
    "dt.fit(X_train_scaled_sd,y_train)"
   ]
  },
  {
   "cell_type": "code",
   "execution_count": 25,
   "id": "0f4e7f5e",
   "metadata": {},
   "outputs": [],
   "source": [
    "pred = dt.predict(X_test_scaled_sd)"
   ]
  },
  {
   "cell_type": "code",
   "execution_count": 26,
   "id": "bb2a01a8",
   "metadata": {},
   "outputs": [],
   "source": [
    "from sklearn.metrics import accuracy_score,plot_confusion_matrix,classification_report"
   ]
  },
  {
   "cell_type": "code",
   "execution_count": 27,
   "id": "bdc1ade3",
   "metadata": {},
   "outputs": [
    {
     "name": "stdout",
     "output_type": "stream",
     "text": [
      "              precision    recall  f1-score   support\n",
      "\n",
      "           0       0.83      0.75      0.79     33594\n",
      "           1       0.65      0.75      0.70     20794\n",
      "\n",
      "    accuracy                           0.75     54388\n",
      "   macro avg       0.74      0.75      0.74     54388\n",
      "weighted avg       0.76      0.75      0.75     54388\n",
      "\n"
     ]
    }
   ],
   "source": [
    "print(classification_report(y_test,pred))"
   ]
  },
  {
   "cell_type": "code",
   "execution_count": 28,
   "id": "79e561ea",
   "metadata": {},
   "outputs": [
    {
     "name": "stdout",
     "output_type": "stream",
     "text": [
      "<sklearn.metrics._plot.confusion_matrix.ConfusionMatrixDisplay object at 0x0000021C47B53070>\n"
     ]
    },
    {
     "data": {
      "image/png": "[encoded data removed]",
      "text/plain": [
       "<Figure size 432x288 with 2 Axes>"
      ]
     },
     "metadata": {
      "needs_background": "light"
     },
     "output_type": "display_data"
    }
   ],
   "source": [
    "print(plot_confusion_matrix(dt,X_test_scaled_sd,y_test))"
   ]
  },
  {
   "cell_type": "markdown",
   "id": "761c94e8",
   "metadata": {},
   "source": [
    "We can se that our model provides **75% accuracy**"
   ]
  },
  {
   "cell_type": "code",
   "execution_count": null,
   "id": "11b2dc89",
   "metadata": {},
   "outputs": [],
   "source": []
  }
 ],
 "metadata": {
  "kernelspec": {
   "display_name": "Python 3",
   "language": "python",
   "name": "python3"
  },
  "language_info": {
   "codemirror_mode": {
    "name": "ipython",
    "version": 3
   },
   "file_extension": ".py",
   "mimetype": "text/x-python",
   "name": "python",
   "nbconvert_exporter": "python",
   "pygments_lexer": "ipython3",
   "version": "3.8.8"
  }
 },
 "nbformat": 4,
 "nbformat_minor": 5
}
