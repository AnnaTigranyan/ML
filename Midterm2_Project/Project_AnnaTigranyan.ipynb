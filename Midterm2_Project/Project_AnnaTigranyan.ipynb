{
 "cells": [
  {
   "cell_type": "markdown",
   "id": "87ff54a2",
   "metadata": {},
   "source": [
    "# ML midterm project\n",
    "## Anna Tigranyan"
   ]
  },
  {
   "cell_type": "markdown",
   "id": "bedab4e3",
   "metadata": {},
   "source": [
    "------------------------"
   ]
  },
  {
   "cell_type": "markdown",
   "id": "10c337f6",
   "metadata": {},
   "source": [
    "# Task"
   ]
  },
  {
   "cell_type": "markdown",
   "id": "6aa93efe",
   "metadata": {},
   "source": [
    "**Part 1.**(1) Generate a dataset with the given features:<br>\n",
    "Random variable  - V1 (uniformal distribution from 0,100)<br>\n",
    "Random variable  - V2 (uniformal distribution from 100000,1000000)<br>\n",
    "Create an Y target given the function<br>\n",
    "Y = V0 + W1*V1 + W2*V2 + W3*sin(2𝜋V1) + W4*cos(2𝜋V2)<br>\n",
    "Use a sigmoid function with a 50% threshold to generate the {0,1} labels. Split the data into train/test and hold out. Provide the Y & V1,V2 for the next task.<br>\n",
    "<br>\n",
    "**Part 2.**(2) Create an agent which will receive the train/test data, do required preprocessing and train a logistic classification model. Logistic regression should be written from scratch.<br>\n",
    "<br>\n",
    "\n",
    "**Part 3.**(2) Compare the model results with optimized versions of Decision Tree, Adaboost, Random Forest, SVM, Logistic <br>regression from Sklearn.\n"
   ]
  },
  {
   "cell_type": "markdown",
   "id": "550b1256",
   "metadata": {},
   "source": [
    "------------"
   ]
  },
  {
   "cell_type": "markdown",
   "id": "94a58f5d",
   "metadata": {},
   "source": [
    "## Libraries"
   ]
  },
  {
   "cell_type": "code",
   "execution_count": 199,
   "id": "a8886259",
   "metadata": {},
   "outputs": [],
   "source": [
    "import numpy as np\n",
    "import pandas as pd\n",
    "\n",
    "\n",
    "import warnings\n",
    "warnings.filterwarnings('ignore')\n",
    "\n",
    "from sklearn.preprocessing import StandardScaler\n",
    "\n",
    "from sklearn.model_selection import GridSearchCV\n",
    "from sklearn.tree import DecisionTreeClassifier\n",
    "from sklearn.linear_model import LogisticRegression\n",
    "from sklearn.ensemble import RandomForestClassifier\n",
    "from sklearn.ensemble import AdaBoostClassifier\n",
    "from sklearn.model_selection import RepeatedStratifiedKFold\n",
    "from sklearn import svm\n",
    "\n",
    "from sklearn.metrics import classification_report\n",
    "from sklearn.metrics import plot_confusion_matrix"
   ]
  },
  {
   "cell_type": "markdown",
   "id": "5661cf52",
   "metadata": {},
   "source": [
    "________________________"
   ]
  },
  {
   "cell_type": "markdown",
   "id": "c76e1060",
   "metadata": {},
   "source": [
    "# Part 1.(1) Generate a dataset with the given features:\n",
    "- Random variable - **V1** (uniformal distribution from 0,100)\n",
    "- Random variable - **V2** (uniformal distribution from 100000,1000000)\n",
    "<br>\n",
    "\n",
    "- Create an Y target given the function<br>\n",
    "  **Y = V0 + W1V1 + W2V2 + W3sin(2𝜋V1) + W4cos(2𝜋V2)**<br>\n",
    "  Use a **sigmoid** function with a **50% threshold** to generate the **{0,1} labels**. Split the data into **train/test** and hold out. Provide the **Y** & **V1**,**V2** for the next task."
   ]
  },
  {
   "cell_type": "markdown",
   "id": "5a57fc15",
   "metadata": {},
   "source": [
    "Let's start to generate our variables: **V0 ,V1 ,V2**.<br>\n",
    "We are going to generate 10000 points."
   ]
  },
  {
   "cell_type": "code",
   "execution_count": 41,
   "id": "ef395c0e",
   "metadata": {},
   "outputs": [],
   "source": [
    "V0 = -105\n",
    "V1 = np.random.uniform(0,100,10000)\n",
    "V2 = np.random.uniform(100000,1000000,10000)"
   ]
  },
  {
   "cell_type": "markdown",
   "id": "965dd641",
   "metadata": {},
   "source": [
    "Now let's generate weights."
   ]
  },
  {
   "cell_type": "code",
   "execution_count": 146,
   "id": "ff7c86f3",
   "metadata": {},
   "outputs": [],
   "source": [
    "W1 = 1.52\n",
    "W2 = 0.00005\n",
    "W3 = 0.0002\n",
    "W4 = 0.004"
   ]
  },
  {
   "cell_type": "markdown",
   "id": "dee799a6",
   "metadata": {},
   "source": [
    "Since we already have our generated variables(VO,V1,V2) and we weights we can construct y from the given function:"
   ]
  },
  {
   "cell_type": "code",
   "execution_count": 160,
   "id": "a2247b46",
   "metadata": {},
   "outputs": [],
   "source": [
    "Y = np.random.normal(V0 + W1*V1 + W2*V2 + W3*np.sin(2*np.pi*V1) + W4*np.cos(2*np.pi*V2),5)"
   ]
  },
  {
   "cell_type": "markdown",
   "id": "9e10201b",
   "metadata": {},
   "source": [
    "Useing a **sigmoid function** with a **50% threshold** to generate the {0,1} labels."
   ]
  },
  {
   "cell_type": "code",
   "execution_count": 148,
   "id": "19f980b9",
   "metadata": {},
   "outputs": [],
   "source": [
    "# sigmoid function\n",
    "sig = 1 / (1 + np.exp(-Y))"
   ]
  },
  {
   "cell_type": "markdown",
   "id": "ca44d183",
   "metadata": {},
   "source": [
    "Checking the balance(number of 0s and 1s in our y)"
   ]
  },
  {
   "cell_type": "code",
   "execution_count": 149,
   "id": "1b32d834",
   "metadata": {},
   "outputs": [
    {
     "data": {
      "text/plain": [
       "50.8"
      ]
     },
     "execution_count": 149,
     "metadata": {},
     "output_type": "execute_result"
    }
   ],
   "source": [
    "(sig<0.5).sum()/100"
   ]
  },
  {
   "cell_type": "markdown",
   "id": "f5fca7e0",
   "metadata": {},
   "source": [
    "From above we can see that we have approximately 50% 0s and 50% 1s in our y"
   ]
  },
  {
   "cell_type": "markdown",
   "id": "9ad70fb2",
   "metadata": {},
   "source": [
    "Generating the **{0,1}** labels"
   ]
  },
  {
   "cell_type": "code",
   "execution_count": 150,
   "id": "1a237653",
   "metadata": {},
   "outputs": [],
   "source": [
    "y = [1 if i > 0.5 else 0 for i in Y ]"
   ]
  },
  {
   "cell_type": "markdown",
   "id": "99ccf03c",
   "metadata": {},
   "source": [
    "Now as we have our variables and our target variable y , we can construct a data frame containing them."
   ]
  },
  {
   "cell_type": "code",
   "execution_count": 151,
   "id": "a602b1c4",
   "metadata": {},
   "outputs": [],
   "source": [
    "df = pd.DataFrame()\n",
    "\n",
    "df['V1'] = V1.tolist()\n",
    "df['V2'] = V2.tolist()\n",
    "df['y'] = np.array(y).tolist()"
   ]
  },
  {
   "cell_type": "code",
   "execution_count": 152,
   "id": "f6a2ec91",
   "metadata": {},
   "outputs": [
    {
     "data": {
      "text/html": [
       "<div>\n",
       "<style scoped>\n",
       "    .dataframe tbody tr th:only-of-type {\n",
       "        vertical-align: middle;\n",
       "    }\n",
       "\n",
       "    .dataframe tbody tr th {\n",
       "        vertical-align: top;\n",
       "    }\n",
       "\n",
       "    .dataframe thead th {\n",
       "        text-align: right;\n",
       "    }\n",
       "</style>\n",
       "<table border=\"1\" class=\"dataframe\">\n",
       "  <thead>\n",
       "    <tr style=\"text-align: right;\">\n",
       "      <th></th>\n",
       "      <th>V1</th>\n",
       "      <th>V2</th>\n",
       "      <th>y</th>\n",
       "    </tr>\n",
       "  </thead>\n",
       "  <tbody>\n",
       "    <tr>\n",
       "      <th>0</th>\n",
       "      <td>58.593593</td>\n",
       "      <td>359394.715529</td>\n",
       "      <td>0</td>\n",
       "    </tr>\n",
       "    <tr>\n",
       "      <th>1</th>\n",
       "      <td>22.643027</td>\n",
       "      <td>646218.177431</td>\n",
       "      <td>0</td>\n",
       "    </tr>\n",
       "    <tr>\n",
       "      <th>2</th>\n",
       "      <td>68.229488</td>\n",
       "      <td>836887.398324</td>\n",
       "      <td>1</td>\n",
       "    </tr>\n",
       "    <tr>\n",
       "      <th>3</th>\n",
       "      <td>43.800315</td>\n",
       "      <td>603179.222229</td>\n",
       "      <td>0</td>\n",
       "    </tr>\n",
       "    <tr>\n",
       "      <th>4</th>\n",
       "      <td>30.761741</td>\n",
       "      <td>231221.536950</td>\n",
       "      <td>0</td>\n",
       "    </tr>\n",
       "  </tbody>\n",
       "</table>\n",
       "</div>"
      ],
      "text/plain": [
       "          V1             V2  y\n",
       "0  58.593593  359394.715529  0\n",
       "1  22.643027  646218.177431  0\n",
       "2  68.229488  836887.398324  1\n",
       "3  43.800315  603179.222229  0\n",
       "4  30.761741  231221.536950  0"
      ]
     },
     "execution_count": 152,
     "metadata": {},
     "output_type": "execute_result"
    }
   ],
   "source": [
    "df.head()"
   ]
  },
  {
   "cell_type": "markdown",
   "id": "2443342e",
   "metadata": {},
   "source": [
    "As a result we have data frame **df** containing:<br>\n",
    "- V1\n",
    "- V2\n",
    "- y (target)"
   ]
  },
  {
   "cell_type": "markdown",
   "id": "0a1e9366",
   "metadata": {},
   "source": [
    "----------------"
   ]
  },
  {
   "cell_type": "markdown",
   "id": "37b6d252",
   "metadata": {},
   "source": [
    "Let's do **train test split**.(train size 80%)"
   ]
  },
  {
   "cell_type": "code",
   "execution_count": 153,
   "id": "7043a31d",
   "metadata": {},
   "outputs": [],
   "source": [
    "# Shuffle our dataset \n",
    "shuffle_df = df.sample(frac=1,random_state=101)\n",
    "\n",
    "# Define a size for our train set \n",
    "train_size = int(0.8 * len(df))\n",
    "\n",
    "# Train test split\n",
    "train_set = shuffle_df[:train_size]\n",
    "test_set = shuffle_df[train_size:]\n",
    "\n",
    "# X_train, y_train, X_test, y_test\n",
    "X_train = train_set[['V1','V2']]\n",
    "X_test = test_set[['V1','V2']]\n",
    "y_train = train_set['y']\n",
    "y_test = test_set['y']"
   ]
  },
  {
   "cell_type": "markdown",
   "id": "048cdad9",
   "metadata": {},
   "source": [
    "Let's check number of 0s and 1s in train and test datas:"
   ]
  },
  {
   "cell_type": "code",
   "execution_count": 163,
   "id": "a748c515",
   "metadata": {},
   "outputs": [
    {
     "data": {
      "text/plain": [
       "0    4091\n",
       "1    3909\n",
       "Name: y, dtype: int64"
      ]
     },
     "execution_count": 163,
     "metadata": {},
     "output_type": "execute_result"
    }
   ],
   "source": [
    "y_train.value_counts()"
   ]
  },
  {
   "cell_type": "code",
   "execution_count": 164,
   "id": "d61e1cb8",
   "metadata": {},
   "outputs": [
    {
     "data": {
      "text/plain": [
       "0    1027\n",
       "1     973\n",
       "Name: y, dtype: int64"
      ]
     },
     "execution_count": 164,
     "metadata": {},
     "output_type": "execute_result"
    }
   ],
   "source": [
    "y_test.value_counts()"
   ]
  },
  {
   "cell_type": "markdown",
   "id": "e2a2f944",
   "metadata": {},
   "source": [
    "**Balance is normal** for train and test."
   ]
  },
  {
   "cell_type": "markdown",
   "id": "ef573d49",
   "metadata": {},
   "source": [
    "------------------"
   ]
  },
  {
   "cell_type": "markdown",
   "id": "1f431f8e",
   "metadata": {},
   "source": [
    "# Part 2.(2) Create an agent which will receive the train/test data, do required preprocessing and train a logistic classification model. Logistic regression should be written from scratch."
   ]
  },
  {
   "cell_type": "markdown",
   "id": "cc00de48",
   "metadata": {},
   "source": [
    "Lets's create **LogReg_FromScratch** class ( Logistic Regression model from scretch)."
   ]
  },
  {
   "cell_type": "code",
   "execution_count": 157,
   "id": "9439a7ab",
   "metadata": {},
   "outputs": [],
   "source": [
    "class LogReg_FromScratch:\n",
    "\n",
    "    def __init__(self, learning_rate=0.001, n_iters=1000):\n",
    "        self.lr = learning_rate\n",
    "        self.n_iters = n_iters\n",
    "        self.weights = None\n",
    "        self.bias = None\n",
    "\n",
    "    def fit(self, X, y):\n",
    "        n_samples, n_features = X.shape\n",
    "\n",
    "        # init parameters\n",
    "        self.weights = np.zeros(n_features)\n",
    "        self.bias = 0\n",
    "\n",
    "        # gradient descent\n",
    "        for _ in range(self.n_iters):\n",
    "            # approximate y with linear combination of weights and x, plus bias\n",
    "            linear_model = np.dot(X, self.weights) + self.bias\n",
    "            # apply sigmoid function\n",
    "            y_predicted = self._sigmoid(linear_model)\n",
    "\n",
    "            # compute gradients\n",
    "            dw = (1 / n_samples) * np.dot(X.T, (y_predicted - y))\n",
    "            db = (1 / n_samples) * np.sum(y_predicted - y)\n",
    "            # update parameters\n",
    "            self.weights -= self.lr * dw\n",
    "            self.bias -= self.lr * db\n",
    "\n",
    "    def predict(self, X):\n",
    "        linear_model = np.dot(X, self.weights) + self.bias\n",
    "        y_predicted = self._sigmoid(linear_model)\n",
    "        y_predicted_cls = [1 if i > 0.5 else 0 for i in y_predicted]\n",
    "        return np.array(y_predicted_cls)\n",
    "\n",
    "    def _sigmoid(self, x):\n",
    "        return 1 / (1 + np.exp(-x))\n",
    "\n"
   ]
  },
  {
   "cell_type": "markdown",
   "id": "7b3bf6a1",
   "metadata": {},
   "source": [
    "-----------------"
   ]
  },
  {
   "cell_type": "markdown",
   "id": "563a34b3",
   "metadata": {},
   "source": [
    "Because our **V1** and **V2** are in different ranges we need to do **scaling** before model construction."
   ]
  },
  {
   "cell_type": "code",
   "execution_count": 168,
   "id": "fd338182",
   "metadata": {},
   "outputs": [],
   "source": [
    "scaler_sd = StandardScaler()\n",
    "\n",
    "# Get scaling parameters with the X_train sample exclusively, using the Scaler.fit() function\n",
    "scaler_sd.fit(X_train)\n",
    "\n",
    "# Scale data using Scaler.transform()\n",
    "X_train_scaled = scaler_sd.transform(X_train)\n",
    "X_test_scaled = scaler_sd.transform(X_test)"
   ]
  },
  {
   "cell_type": "markdown",
   "id": "9b22345e",
   "metadata": {},
   "source": [
    "--------------------------"
   ]
  },
  {
   "cell_type": "code",
   "execution_count": 169,
   "id": "2c796011",
   "metadata": {},
   "outputs": [],
   "source": [
    "model_log = LogReg_FromScratch()\n",
    "model_log.fit(X_train_scaled, y_train)"
   ]
  },
  {
   "cell_type": "code",
   "execution_count": 170,
   "id": "1f509dd9",
   "metadata": {},
   "outputs": [
    {
     "name": "stdout",
     "output_type": "stream",
     "text": [
      "              precision    recall  f1-score   support\n",
      "\n",
      "           0       0.97      0.96      0.97      1027\n",
      "           1       0.96      0.97      0.97       973\n",
      "\n",
      "    accuracy                           0.97      2000\n",
      "   macro avg       0.97      0.97      0.97      2000\n",
      "weighted avg       0.97      0.97      0.97      2000\n",
      "\n"
     ]
    }
   ],
   "source": [
    "print(classification_report(y_test, model_log.predict(X_test_scaled)))"
   ]
  },
  {
   "cell_type": "code",
   "execution_count": 173,
   "id": "a1aebd04",
   "metadata": {},
   "outputs": [
    {
     "name": "stdout",
     "output_type": "stream",
     "text": [
      "Predicted    0    1\n",
      "Actual             \n",
      "0          991   36\n",
      "1           28  945\n"
     ]
    }
   ],
   "source": [
    "confusion_matrix = pd.crosstab(y_test, model_log.predict(X_test_scaled), rownames=['Actual'], colnames=['Predicted'])\n",
    "print (confusion_matrix)"
   ]
  },
  {
   "cell_type": "markdown",
   "id": "3f80b8ac",
   "metadata": {},
   "source": [
    "From above we can see that LogReg_FromScratch model accuracy is 97% which means that our model predicts correctly (whether the y is 1  or 0 ) in 97% of cases.<br>\n",
    "Recall ( TP/(TP+FN) - What proportion of actual positives was identified correctly ) for:\n",
    "- 1s is 97% (The model predicts 96% of 1s correctly)\n",
    "- 0s is 96% (The model predicts 97% of 0s correctly)\n",
    "<br>\n",
    "\n",
    "Precision ( TP/(TP+FP) - What proportion of positive identifications was actually correct ) for:\n",
    "- 1s is 97%\n",
    "- 0s is 96%"
   ]
  },
  {
   "cell_type": "markdown",
   "id": "25ae0c48",
   "metadata": {},
   "source": [
    "---------------------"
   ]
  },
  {
   "cell_type": "markdown",
   "id": "e4cbb823",
   "metadata": {},
   "source": [
    "# Part 3.(2) Compare the model results with optimized versions of Decision Tree, Adaboost, Random Forest, SVM, Logistic regression from Sklearn."
   ]
  },
  {
   "cell_type": "markdown",
   "id": "14b82e8a",
   "metadata": {},
   "source": [
    "## Decision Tree"
   ]
  },
  {
   "cell_type": "code",
   "execution_count": 174,
   "id": "f71fa120",
   "metadata": {},
   "outputs": [],
   "source": [
    "# model\n",
    "dt = DecisionTreeClassifier()\n",
    "\n",
    "# parameters for tuning\n",
    "criterion = ['gini', 'entropy']\n",
    "max_depth = [2,3,4,5,6,8,10,12,14,18,20]\n",
    "\n",
    "# parameters dictionary\n",
    "param_grid = {'criterion' : criterion , 'max_depth' : max_depth}"
   ]
  },
  {
   "cell_type": "code",
   "execution_count": 175,
   "id": "fffdf51e",
   "metadata": {},
   "outputs": [
    {
     "data": {
      "text/plain": [
       "GridSearchCV(estimator=DecisionTreeClassifier(),\n",
       "             param_grid={'criterion': ['gini', 'entropy'],\n",
       "                         'max_depth': [2, 3, 4, 5, 6, 8, 10, 12, 14, 18, 20]})"
      ]
     },
     "execution_count": 175,
     "metadata": {},
     "output_type": "execute_result"
    }
   ],
   "source": [
    "# grid search\n",
    "grid = GridSearchCV(dt,param_grid)\n",
    "\n",
    "#fitting\n",
    "grid.fit(X_train_scaled,y_train)"
   ]
  },
  {
   "cell_type": "code",
   "execution_count": 176,
   "id": "59b32b83",
   "metadata": {},
   "outputs": [
    {
     "data": {
      "text/plain": [
       "{'max_depth': 5, 'criterion': 'gini'}"
      ]
     },
     "execution_count": 176,
     "metadata": {},
     "output_type": "execute_result"
    }
   ],
   "source": [
    "# getting best parametrs for our Decision Tree model\n",
    "g = grid.best_estimator_.get_params()\n",
    "params = {'max_depth':g['max_depth'],'criterion':g['criterion']}\n",
    "params"
   ]
  },
  {
   "cell_type": "code",
   "execution_count": 177,
   "id": "8d176982",
   "metadata": {},
   "outputs": [
    {
     "data": {
      "text/plain": [
       "DecisionTreeClassifier(max_depth=5)"
      ]
     },
     "execution_count": 177,
     "metadata": {},
     "output_type": "execute_result"
    }
   ],
   "source": [
    "# Decision Tree model with best parameters\n",
    "model = DecisionTreeClassifier(max_depth=params['max_depth'],criterion=params['criterion'])\n",
    "\n",
    "model.fit(X_train_scaled, y_train)"
   ]
  },
  {
   "cell_type": "code",
   "execution_count": 178,
   "id": "5793a9ee",
   "metadata": {},
   "outputs": [
    {
     "name": "stdout",
     "output_type": "stream",
     "text": [
      "              precision    recall  f1-score   support\n",
      "\n",
      "           0       0.96      0.98      0.97      1027\n",
      "           1       0.98      0.96      0.97       973\n",
      "\n",
      "    accuracy                           0.97      2000\n",
      "   macro avg       0.97      0.97      0.97      2000\n",
      "weighted avg       0.97      0.97      0.97      2000\n",
      "\n"
     ]
    }
   ],
   "source": [
    "# printing classification report\n",
    "print(classification_report(y_test, model.predict(X_test_scaled)))"
   ]
  },
  {
   "cell_type": "code",
   "execution_count": 179,
   "id": "1e4fa641",
   "metadata": {},
   "outputs": [
    {
     "data": {
      "image/png": "[encoded data removed]",
      "text/plain": [
       "<Figure size 432x288 with 2 Axes>"
      ]
     },
     "metadata": {
      "needs_background": "light"
     },
     "output_type": "display_data"
    }
   ],
   "source": [
    "# printing confuzion matrix\n",
    "plot_confusion_matrix(model,X_test_scaled,y_test);"
   ]
  },
  {
   "cell_type": "markdown",
   "id": "1d848a3b",
   "metadata": {},
   "source": [
    "Accuracy is the same as for LogReg_FromScratch model but from confuzion matrix we can see that Decision tree model 1's predicts worse than the LogReg_FromScratch model."
   ]
  },
  {
   "cell_type": "markdown",
   "id": "130bf13f",
   "metadata": {},
   "source": [
    "-------------------------------"
   ]
  },
  {
   "cell_type": "markdown",
   "id": "6959e901",
   "metadata": {},
   "source": [
    "## Logistic regression"
   ]
  },
  {
   "cell_type": "code",
   "execution_count": 184,
   "id": "44d58695",
   "metadata": {},
   "outputs": [
    {
     "data": {
      "text/plain": [
       "{'solver': 'liblinear', 'C': 10, 'penalty': 'l1'}"
      ]
     },
     "execution_count": 184,
     "metadata": {},
     "output_type": "execute_result"
    }
   ],
   "source": [
    "# model\n",
    "log = LogisticRegression()\n",
    "\n",
    "# parameters for tuning\n",
    "solvers = ['newton-cg', 'lbfgs', 'liblinear']\n",
    "penalty = ['l2','l1','elasticnet']\n",
    "c_values = [100, 10, 1.0, 0.1, 0.01]\n",
    "\n",
    "#parameters dictionory\n",
    "grid = dict(solver=solvers,penalty=penalty,C=c_values)\n",
    "\n",
    "# grid search \n",
    "grid_search_log = GridSearchCV(estimator=log, param_grid=grid, n_jobs=-1, scoring='accuracy',error_score=0)\n",
    "\n",
    "# fitting (we are going to use scaled x train)\n",
    "grid_search_log.fit(X_train_scaled,y_train)\n",
    "\n",
    "# getting best parametrs\n",
    "g = grid_search_log.best_estimator_.get_params()\n",
    "\n",
    "params_log = {'solver':g['solver'],'C':g['C'],'penalty':g['penalty']}\n",
    "params_log"
   ]
  },
  {
   "cell_type": "code",
   "execution_count": 185,
   "id": "5d432748",
   "metadata": {},
   "outputs": [
    {
     "data": {
      "text/plain": [
       "LogisticRegression(C=10, penalty='l1', solver='liblinear')"
      ]
     },
     "execution_count": 185,
     "metadata": {},
     "output_type": "execute_result"
    }
   ],
   "source": [
    "# Logistic regression model with best parameters\n",
    "\n",
    "log_model = LogisticRegression(C= params_log['C'], penalty=params_log['penalty'], solver=params_log['solver'])\n",
    "log_model.fit(X_train_scaled, y_train)"
   ]
  },
  {
   "cell_type": "code",
   "execution_count": 186,
   "id": "e3d820a0",
   "metadata": {},
   "outputs": [
    {
     "name": "stdout",
     "output_type": "stream",
     "text": [
      "              precision    recall  f1-score   support\n",
      "\n",
      "           0       0.98      0.98      0.98      1027\n",
      "           1       0.98      0.98      0.98       973\n",
      "\n",
      "    accuracy                           0.98      2000\n",
      "   macro avg       0.98      0.98      0.98      2000\n",
      "weighted avg       0.98      0.98      0.98      2000\n",
      "\n"
     ]
    }
   ],
   "source": [
    "# Printing classification report\n",
    "\n",
    "print(classification_report(y_test, log_model.predict(X_test_scaled)))"
   ]
  },
  {
   "cell_type": "code",
   "execution_count": 187,
   "id": "02a1e956",
   "metadata": {},
   "outputs": [
    {
     "data": {
      "text/plain": [
       "<sklearn.metrics._plot.confusion_matrix.ConfusionMatrixDisplay at 0x1ac5b448a30>"
      ]
     },
     "execution_count": 187,
     "metadata": {},
     "output_type": "execute_result"
    },
    {
     "data": {
      "image/png": "[encoded data removed]",
      "text/plain": [
       "<Figure size 432x288 with 2 Axes>"
      ]
     },
     "metadata": {
      "needs_background": "light"
     },
     "output_type": "display_data"
    }
   ],
   "source": [
    "# Printing confuzion matrix\n",
    "\n",
    "plot_confusion_matrix(log_model,X_test_scaled,y_test)"
   ]
  },
  {
   "cell_type": "markdown",
   "id": "522de9b4",
   "metadata": {},
   "source": [
    "From above we can see that Logistic Regression model with hyperparameters tuning is better(**98% accuracy**) than previous 2 models.(Decision tree and LogReg_FromScretch)"
   ]
  },
  {
   "cell_type": "markdown",
   "id": "055b8751",
   "metadata": {},
   "source": [
    "-----------------------------------"
   ]
  },
  {
   "cell_type": "markdown",
   "id": "204ef3e6",
   "metadata": {},
   "source": [
    "## SVM"
   ]
  },
  {
   "cell_type": "code",
   "execution_count": 188,
   "id": "03a70711",
   "metadata": {},
   "outputs": [
    {
     "data": {
      "text/plain": [
       "GridSearchCV(estimator=SVC(),\n",
       "             param_grid={'C': [0.1, 1, 10, 100], 'gamma': [1, 0.1, 0.01, 0.001],\n",
       "                         'kernel': ['rbf', 'poly', 'sigmoid']})"
      ]
     },
     "execution_count": 188,
     "metadata": {},
     "output_type": "execute_result"
    }
   ],
   "source": [
    "SVM = svm.SVC()\n",
    "\n",
    "param_grid = {'C': [0.1,1, 10, 100], 'gamma': [1,0.1,0.01,0.001],'kernel': ['rbf', 'poly', 'sigmoid']}\n",
    "\n",
    "grid_svm = GridSearchCV(SVM,param_grid,refit=True)\n",
    "grid_svm.fit(X_train_scaled,y_train)"
   ]
  },
  {
   "cell_type": "code",
   "execution_count": 189,
   "id": "9c112684",
   "metadata": {},
   "outputs": [
    {
     "data": {
      "text/plain": [
       "{'gamma': 0.01, 'C': 1, 'kernel': 'rbf'}"
      ]
     },
     "execution_count": 189,
     "metadata": {},
     "output_type": "execute_result"
    }
   ],
   "source": [
    "# getting best parametrs\n",
    "g = grid_svm.best_estimator_.get_params()\n",
    "\n",
    "params_svm = {'gamma':g['gamma'],'C':g['C'],'kernel':g['kernel']}\n",
    "params_svm"
   ]
  },
  {
   "cell_type": "code",
   "execution_count": 190,
   "id": "8782dc9d",
   "metadata": {},
   "outputs": [
    {
     "data": {
      "text/plain": [
       "SVC(C=1, gamma=0.01)"
      ]
     },
     "execution_count": 190,
     "metadata": {},
     "output_type": "execute_result"
    }
   ],
   "source": [
    "# SVM model with best parameters\n",
    "\n",
    "svm_model = svm.SVC(C= params_svm['C'], gamma=params_svm['gamma'], kernel=params_svm['kernel'])\n",
    "svm_model.fit(X_train_scaled, y_train)"
   ]
  },
  {
   "cell_type": "code",
   "execution_count": 191,
   "id": "d32e2b25",
   "metadata": {},
   "outputs": [
    {
     "name": "stdout",
     "output_type": "stream",
     "text": [
      "              precision    recall  f1-score   support\n",
      "\n",
      "           0       0.98      0.98      0.98      1027\n",
      "           1       0.98      0.98      0.98       973\n",
      "\n",
      "    accuracy                           0.98      2000\n",
      "   macro avg       0.98      0.98      0.98      2000\n",
      "weighted avg       0.98      0.98      0.98      2000\n",
      "\n"
     ]
    }
   ],
   "source": [
    "# Printing classification report\n",
    "print(classification_report(y_test, svm_model.predict(X_test_scaled)))"
   ]
  },
  {
   "cell_type": "code",
   "execution_count": 192,
   "id": "064d2d40",
   "metadata": {},
   "outputs": [
    {
     "data": {
      "image/png": "[encoded data removed]",
      "text/plain": [
       "<Figure size 432x288 with 2 Axes>"
      ]
     },
     "metadata": {
      "needs_background": "light"
     },
     "output_type": "display_data"
    }
   ],
   "source": [
    "# printing confuzion matrix\n",
    "plot_confusion_matrix(svm_model,X_test_scaled,y_test);"
   ]
  },
  {
   "cell_type": "markdown",
   "id": "72270cdb",
   "metadata": {},
   "source": [
    "From above we can see that SVM model performed like Logistic Regression model.Accuracy is **98%**."
   ]
  },
  {
   "cell_type": "markdown",
   "id": "05a42dfe",
   "metadata": {},
   "source": [
    "------------------------"
   ]
  },
  {
   "cell_type": "markdown",
   "id": "367063cd",
   "metadata": {},
   "source": [
    "## Random Forest"
   ]
  },
  {
   "cell_type": "code",
   "execution_count": 193,
   "id": "adf0fa7e",
   "metadata": {},
   "outputs": [
    {
     "data": {
      "text/plain": [
       "GridSearchCV(cv=3, estimator=RandomForestClassifier(), n_jobs=-1,\n",
       "             param_grid={'max_depth': [50, 60, 70, 100, 150, 200, 300],\n",
       "                         'max_features': ['auto', 'sqrt'],\n",
       "                         'n_estimators': [100, 200, 500, 1000, 2000]})"
      ]
     },
     "execution_count": 193,
     "metadata": {},
     "output_type": "execute_result"
    }
   ],
   "source": [
    "rf = RandomForestClassifier()\n",
    "\n",
    "# Number of trees in random forest\n",
    "n_estimators = [100,200,500,1000,2000]\n",
    "# Number of features to consider at every split\n",
    "max_features = ['auto', 'sqrt']\n",
    "# Maximum number of levels in tree\n",
    "max_depth = [50,60,70,100,150,200,300]\n",
    "\n",
    "param_grid = {'n_estimators': n_estimators,\n",
    "               'max_features': max_features,\n",
    "               'max_depth': max_depth}\n",
    "# grid search\n",
    "grid_rf = GridSearchCV(rf, param_grid, cv = 3, n_jobs = -1)\n",
    "\n",
    "#fitting\n",
    "grid_rf.fit(X_train_scaled,y_train)\n"
   ]
  },
  {
   "cell_type": "code",
   "execution_count": 194,
   "id": "a113796b",
   "metadata": {},
   "outputs": [
    {
     "data": {
      "text/plain": [
       "{'n_estimators': 100, 'max_features': 'auto', 'max_depth': 150}"
      ]
     },
     "execution_count": 194,
     "metadata": {},
     "output_type": "execute_result"
    }
   ],
   "source": [
    "g = grid_rf.best_estimator_.get_params()\n",
    "\n",
    "params_rf = {'n_estimators':g['n_estimators'],'max_features':g['max_features'],'max_depth':g['max_depth']}\n",
    "params_rf"
   ]
  },
  {
   "cell_type": "code",
   "execution_count": 195,
   "id": "c6f2cc4d",
   "metadata": {},
   "outputs": [
    {
     "data": {
      "text/plain": [
       "RandomForestClassifier(max_depth=150)"
      ]
     },
     "execution_count": 195,
     "metadata": {},
     "output_type": "execute_result"
    }
   ],
   "source": [
    "# Random Foredt model with best parameters\n",
    "rf_model = RandomForestClassifier(n_estimators=params_rf['n_estimators'],max_features=params_rf['max_features'],\n",
    "                               max_depth=params_rf['max_depth'])\n",
    "\n",
    "rf_model.fit(X_train_scaled, y_train)"
   ]
  },
  {
   "cell_type": "code",
   "execution_count": 196,
   "id": "d71704c4",
   "metadata": {},
   "outputs": [
    {
     "name": "stdout",
     "output_type": "stream",
     "text": [
      "              precision    recall  f1-score   support\n",
      "\n",
      "           0       0.97      0.98      0.97      1027\n",
      "           1       0.98      0.97      0.97       973\n",
      "\n",
      "    accuracy                           0.97      2000\n",
      "   macro avg       0.97      0.97      0.97      2000\n",
      "weighted avg       0.97      0.97      0.97      2000\n",
      "\n"
     ]
    }
   ],
   "source": [
    "# Printing classification report\n",
    "print(classification_report(y_test, rf_model.predict(X_test_scaled)))"
   ]
  },
  {
   "cell_type": "code",
   "execution_count": 197,
   "id": "d27973d4",
   "metadata": {},
   "outputs": [
    {
     "data": {
      "image/png": "[encoded data removed]",
      "text/plain": [
       "<Figure size 432x288 with 2 Axes>"
      ]
     },
     "metadata": {
      "needs_background": "light"
     },
     "output_type": "display_data"
    }
   ],
   "source": [
    "# printing confuzion matrix\n",
    "plot_confusion_matrix(rf_model,X_test_scaled,y_test);"
   ]
  },
  {
   "cell_type": "markdown",
   "id": "716944f8",
   "metadata": {},
   "source": [
    "Random forest model accuracy is 97%."
   ]
  },
  {
   "cell_type": "markdown",
   "id": "05c8e4bd",
   "metadata": {},
   "source": [
    "_______________________________"
   ]
  },
  {
   "cell_type": "markdown",
   "id": "a71626ec",
   "metadata": {},
   "source": [
    "## Adaboost"
   ]
  },
  {
   "cell_type": "code",
   "execution_count": 205,
   "id": "6b48bd16",
   "metadata": {},
   "outputs": [
    {
     "data": {
      "text/plain": [
       "GridSearchCV(cv=RepeatedStratifiedKFold(n_repeats=3, n_splits=10, random_state=1),\n",
       "             estimator=AdaBoostClassifier(), n_jobs=-1,\n",
       "             param_grid={'learning_rate': [0.0001, 0.001, 0.01, 0.1, 1.0],\n",
       "                         'n_estimators': [50, 100, 500, 1000]},\n",
       "             scoring='accuracy')"
      ]
     },
     "execution_count": 205,
     "metadata": {},
     "output_type": "execute_result"
    }
   ],
   "source": [
    "model_ada = AdaBoostClassifier()\n",
    "\n",
    "params = dict()\n",
    "params['n_estimators'] = [50, 100, 500,1000]\n",
    "params['learning_rate'] = [0.0001, 0.001, 0.01, 0.1, 1.0]\n",
    "\n",
    "# define the evaluation procedure\n",
    "cv = RepeatedStratifiedKFold(n_splits=10, n_repeats=3, random_state=1)\n",
    "\n",
    "# define the grid search procedure\n",
    "grid_ada = GridSearchCV(estimator=model_ada, param_grid=params, n_jobs=-1, cv=cv, scoring='accuracy')\n",
    "\n",
    "# execute the grid search\n",
    "grid_ada.fit(X_train_scaled,y_train) "
   ]
  },
  {
   "cell_type": "code",
   "execution_count": 206,
   "id": "89250e74",
   "metadata": {},
   "outputs": [
    {
     "data": {
      "text/plain": [
       "{'n_estimators': 500, 'learning_rate': 0.1}"
      ]
     },
     "execution_count": 206,
     "metadata": {},
     "output_type": "execute_result"
    }
   ],
   "source": [
    "g = grid_ada.best_estimator_.get_params()\n",
    "\n",
    "params_ada = {'n_estimators':g['n_estimators'],'learning_rate':g['learning_rate']}\n",
    "params_ada"
   ]
  },
  {
   "cell_type": "code",
   "execution_count": 207,
   "id": "7590c908",
   "metadata": {},
   "outputs": [
    {
     "data": {
      "text/plain": [
       "AdaBoostClassifier(learning_rate=0.1, n_estimators=500)"
      ]
     },
     "execution_count": 207,
     "metadata": {},
     "output_type": "execute_result"
    }
   ],
   "source": [
    "# Adaboost model with best parameters\n",
    "ada_model = AdaBoostClassifier(n_estimators=params_ada['n_estimators'],learning_rate=params_ada['learning_rate'])\n",
    "\n",
    "ada_model.fit(X_train_scaled, y_train)"
   ]
  },
  {
   "cell_type": "code",
   "execution_count": 208,
   "id": "109f8f3d",
   "metadata": {},
   "outputs": [
    {
     "name": "stdout",
     "output_type": "stream",
     "text": [
      "              precision    recall  f1-score   support\n",
      "\n",
      "           0       0.98      0.98      0.98      1027\n",
      "           1       0.98      0.98      0.98       973\n",
      "\n",
      "    accuracy                           0.98      2000\n",
      "   macro avg       0.98      0.98      0.98      2000\n",
      "weighted avg       0.98      0.98      0.98      2000\n",
      "\n"
     ]
    }
   ],
   "source": [
    "# Printing classification report\n",
    "print(classification_report(y_test, ada_model.predict(X_test_scaled)))"
   ]
  },
  {
   "cell_type": "code",
   "execution_count": 209,
   "id": "b926fce4",
   "metadata": {},
   "outputs": [
    {
     "data": {
      "image/png": "[encoded data removed]",
      "text/plain": [
       "<Figure size 432x288 with 2 Axes>"
      ]
     },
     "metadata": {
      "needs_background": "light"
     },
     "output_type": "display_data"
    }
   ],
   "source": [
    "# printing confuzion matrix\n",
    "plot_confusion_matrix(ada_model,X_test_scaled,y_test);"
   ]
  },
  {
   "cell_type": "markdown",
   "id": "861f4de5",
   "metadata": {},
   "source": [
    "From above we can see that Adaboost model accuracy is 98% and its performance like Logistic regression and SVM models performances."
   ]
  },
  {
   "cell_type": "markdown",
   "id": "f3c49a06",
   "metadata": {},
   "source": [
    "----------------------"
   ]
  },
  {
   "cell_type": "markdown",
   "id": "31ba11aa",
   "metadata": {},
   "source": [
    "We have following models and accuracies:<br>\n",
    "-  LogReg_FromScratch - accuracy: 97%\n",
    "- Logistic regression - accuracy: 98%\n",
    "- SVM - accutacy: 98%\n",
    "- Decision Tree - accuracy: 97%\n",
    "- Random Forest - accuracy: 97%\n",
    "- Adaboost - accuracy: 98%\n",
    "<br>\n",
    "\n",
    "The best model is **Logistic  Regression** model (although SVM և Adaboost are slightly behind it)."
   ]
  },
  {
   "cell_type": "code",
   "execution_count": null,
   "id": "1a870db1",
   "metadata": {},
   "outputs": [],
   "source": []
  }
 ],
 "metadata": {
  "kernelspec": {
   "display_name": "Python 3",
   "language": "python",
   "name": "python3"
  },
  "language_info": {
   "codemirror_mode": {
    "name": "ipython",
    "version": 3
   },
   "file_extension": ".py",
   "mimetype": "text/x-python",
   "name": "python",
   "nbconvert_exporter": "python",
   "pygments_lexer": "ipython3",
   "version": "3.8.8"
  }
 },
 "nbformat": 4,
 "nbformat_minor": 5
}
